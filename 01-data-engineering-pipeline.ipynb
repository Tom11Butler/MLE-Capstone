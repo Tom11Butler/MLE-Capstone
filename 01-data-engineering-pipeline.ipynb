{
 "cells": [
  {
   "cell_type": "markdown",
   "metadata": {},
   "source": [
    "# 1. Engineering the films dataset\n",
    "\n",
    "The purpose of this notebook is for the engineering of the films data set into a state that would be ready for analysis. \n",
    "\n",
    "## Tasks\n",
    "\n",
    "1. Load in the MovieLens dataset, merging the `movies.csv` and `links.csv` such that every film has the appropriate `tmdbId` to be used in calling the TMDB API.\n",
    "2. Request movie details from the TMDB API for all films from the MovieLens dataset. Create a pandas DataFrame from this data and save to a csv.\n",
    "3. Do some preliminary cleaning on the dataset. These steps include\n",
    "    * flattening the dictionaries for production companies and spoken languages into string features,\n",
    "    * converting the release date to a datetime type,\n",
    "    * dropping all films where either the budget or revenue data is missing, and\n",
    "    * dropping unnecessary columns.\n",
    "4. Left join the macroeconomic data to the month of release for the film.\n",
    "5. Save the complete dataset."
   ]
  },
  {
   "cell_type": "markdown",
   "metadata": {},
   "source": [
    "## Factored Code Implementation"
   ]
  },
  {
   "cell_type": "markdown",
   "metadata": {},
   "source": [
    "### 1. Build the raw `movie_details` dataset from the API"
   ]
  },
  {
   "cell_type": "code",
   "execution_count": 1,
   "metadata": {},
   "outputs": [],
   "source": [
    "from build_dataset import *\n",
    "PRODUCTION_DIRECTORY = 'prod-movies'"
   ]
  },
  {
   "cell_type": "code",
   "execution_count": 2,
   "metadata": {},
   "outputs": [
    {
     "name": "stdout",
     "output_type": "stream",
     "text": [
      "START TIME =  06:52:01\n",
      "Loading the MovieLens data ...\n",
      "Beginning API calls for movie details ...\n",
      "Approximately 10% complete ...\n",
      "Approximately 20% complete ...\n",
      "Approximately 30% complete ...\n",
      "Approximately 40% complete ...\n",
      "Approximately 50% complete ...\n",
      "Approximately 60% complete ...\n",
      "Approximately 70% complete ...\n",
      "Approximately 80% complete ...\n",
      "Approximately 90% complete ...\n",
      "Completed all API calls for movie details!\n",
      "COMPLETION TIME =  10:55:39\n",
      "\n",
      "\n",
      "Time to build data: 4:03:36.499368\n",
      "Raw dataset saved to prod-movies/raw_movie_details.csv\n",
      "Raw dataset row count: 58098\n"
     ]
    },
    {
     "data": {
      "image/png": "[encoded data removed]",
      "text/plain": [
       "<Figure size 720x432 with 1 Axes>"
      ]
     },
     "metadata": {
      "needs_background": "light"
     },
     "output_type": "display_data"
    }
   ],
   "source": [
    "# source is data/ml-latest. On unzipping the MovieLens download, it goes into\n",
    "# a folder titled ml-latest\n",
    "# note the below - a full run takes around 4 hours!!\n",
    "# to test the pipeline, put max_rows to something like 1000\n",
    "df_raw_movie_details = load_movie_details(config_filepath = 'API.cfg'\n",
    "                                          , source='data/ml-latest'\n",
    "                                          , destination=PRODUCTION_DIRECTORY\n",
    "                                          , batch_size=100\n",
    "#                                           , max_rows=500\n",
    "                                          , clean=False\n",
    "                                          , plot=True\n",
    "                                         )"
   ]
  },
  {
   "cell_type": "markdown",
   "metadata": {},
   "source": [
    "### 2. Clean the `movie_details` data to reduce it down to the scope we are concerned with"
   ]
  },
  {
   "cell_type": "code",
   "execution_count": 3,
   "metadata": {},
   "outputs": [
    {
     "name": "stdout",
     "output_type": "stream",
     "text": [
      "Cleaning the raw movie details DataFrame ...\n",
      "Finished cleaning the movie details data!\n",
      "Cleaned dataset row count: 5602\n",
      "Cleaned dataset saved to prod-movies/movie_details.csv\n",
      "\n",
      "<class 'pandas.core.frame.DataFrame'>\n",
      "Int64Index: 5602 entries, 0 to 58085\n",
      "Data columns (total 13 columns):\n",
      " #   Column             Non-Null Count  Dtype         \n",
      "---  ------             --------------  -----         \n",
      " 0   budget             5602 non-null   float64       \n",
      " 1   id                 5602 non-null   float64       \n",
      " 2   original_language  5602 non-null   object        \n",
      " 3   original_title     5602 non-null   object        \n",
      " 4   popularity         5602 non-null   float64       \n",
      " 5   release_date       5602 non-null   datetime64[ns]\n",
      " 6   revenue            5602 non-null   float64       \n",
      " 7   runtime            5602 non-null   float64       \n",
      " 8   num_prods          5602 non-null   int64         \n",
      " 9   prod_comp_names    5602 non-null   object        \n",
      " 10  prod_comp_cntry    5602 non-null   object        \n",
      " 11  language           5602 non-null   object        \n",
      " 12  num_languages      5602 non-null   int64         \n",
      "dtypes: datetime64[ns](1), float64(5), int64(2), object(5)\n",
      "memory usage: 612.7+ KB\n",
      "None\n"
     ]
    }
   ],
   "source": [
    "df_cleaned = clean_movie_details(destination=PRODUCTION_DIRECTORY\n",
    "                                , source=PRODUCTION_DIRECTORY\n",
    "                                , print_info=True)"
   ]
  },
  {
   "cell_type": "markdown",
   "metadata": {},
   "source": [
    "### 3. Build the raw movie crew dataset from the API"
   ]
  },
  {
   "cell_type": "code",
   "execution_count": 4,
   "metadata": {},
   "outputs": [
    {
     "name": "stdout",
     "output_type": "stream",
     "text": [
      "START TIME =  11:10:52\n",
      "Loading the movie details data ...\n",
      "Beginning API calls for movie cast and crew ...\n",
      "Approximately 10% complete ...\n",
      "Approximately 20% complete ...\n",
      "Approximately 30% complete ...\n",
      "Approximately 40% complete ...\n",
      "Approximately 50% complete ...\n",
      "Approximately 60% complete ...\n",
      "Approximately 70% complete ...\n",
      "Approximately 80% complete ...\n",
      "Approximately 90% complete ...\n",
      "Completed all API calls for movie cast and crew!\n",
      "COMPLETION TIME =  11:32:34\n",
      "\n",
      "\n",
      "Time to build data: 0:21:38.371854\n",
      "Raw dataset saved to prod-movies/raw_cast_crew.csv\n",
      "Raw dataset row count: 5602\n"
     ]
    },
    {
     "data": {
      "image/png": "[encoded data removed]",
      "text/plain": [
       "<Figure size 720x432 with 1 Axes>"
      ]
     },
     "metadata": {
      "needs_background": "light"
     },
     "output_type": "display_data"
    }
   ],
   "source": [
    "df_cast_crew = load_movie_cast_crew(config_filepath = 'API.cfg'\n",
    "                                          , source=PRODUCTION_DIRECTORY\n",
    "                                          , destination=PRODUCTION_DIRECTORY\n",
    "                                          , batch_size=10\n",
    "                                          , clean=False\n",
    "                                          , plot=True\n",
    "                                     )"
   ]
  },
  {
   "cell_type": "markdown",
   "metadata": {},
   "source": [
    "### 4. Clean the cast and crew dataset"
   ]
  },
  {
   "cell_type": "code",
   "execution_count": 2,
   "metadata": {},
   "outputs": [
    {
     "name": "stdout",
     "output_type": "stream",
     "text": [
      "Cleaning the raw cast and crew DataFrame ...\n",
      "Finished cleaning the movie details data!\n",
      "Cleaned dataset row count: 5602\n",
      "Cleaned dataset saved to prod-movies/cast_crew.csv\n",
      "\n",
      "<class 'pandas.core.frame.DataFrame'>\n",
      "RangeIndex: 5602 entries, 0 to 5601\n",
      "Data columns (total 13 columns):\n",
      " #   Column          Non-Null Count  Dtype  \n",
      "---  ------          --------------  -----  \n",
      " 0   id              5602 non-null   int64  \n",
      " 1   director        5602 non-null   object \n",
      " 2   director_pop    5602 non-null   float64\n",
      " 3   writers         5602 non-null   object \n",
      " 4   num_writers     5602 non-null   int64  \n",
      " 5   avg_writer_pop  5602 non-null   float64\n",
      " 6   max_writer_pop  5602 non-null   float64\n",
      " 7   min_writer_pop  5602 non-null   float64\n",
      " 8   actors          5602 non-null   object \n",
      " 9   sum_actor_pop   5602 non-null   float64\n",
      " 10  avg_actor_pop   5602 non-null   float64\n",
      " 11  max_actor_pop   5602 non-null   float64\n",
      " 12  min_actor_pop   5602 non-null   float64\n",
      "dtypes: float64(8), int64(2), object(3)\n",
      "memory usage: 569.1+ KB\n",
      "None\n"
     ]
    }
   ],
   "source": [
    "df_cast_crew = clean_cast_crew(destination=PRODUCTION_DIRECTORY\n",
    "                               , source=PRODUCTION_DIRECTORY\n",
    "                               , print_info=True\n",
    "                              )"
   ]
  },
  {
   "cell_type": "markdown",
   "metadata": {},
   "source": [
    "### 5. Join all datasets\n",
    "\n",
    "These datasets to join are\n",
    "1. `movie_details.csv`,\n",
    "2. `cast_crew.csv`, and\n",
    "3. the macroeconomic data we choose to use."
   ]
  },
  {
   "cell_type": "code",
   "execution_count": 2,
   "metadata": {},
   "outputs": [
    {
     "name": "stdout",
     "output_type": "stream",
     "text": [
      "Merging the movie, cast and crew, and macroeconomic data ...\n",
      "\n",
      "<class 'pandas.core.frame.DataFrame'>\n",
      "Int64Index: 5579 entries, 0 to 5637\n",
      "Data columns (total 30 columns):\n",
      " #   Column             Non-Null Count  Dtype         \n",
      "---  ------             --------------  -----         \n",
      " 0   budget             5579 non-null   float64       \n",
      " 1   id                 5579 non-null   float64       \n",
      " 2   original_language  5579 non-null   object        \n",
      " 3   original_title     5579 non-null   object        \n",
      " 4   popularity         5579 non-null   float64       \n",
      " 5   release_date       5579 non-null   datetime64[ns]\n",
      " 6   revenue            5579 non-null   float64       \n",
      " 7   runtime            5579 non-null   float64       \n",
      " 8   num_prods          5579 non-null   int64         \n",
      " 9   prod_comp_names    5579 non-null   object        \n",
      " 10  prod_comp_cntry    5579 non-null   object        \n",
      " 11  language           5579 non-null   object        \n",
      " 12  num_languages      5579 non-null   int64         \n",
      " 13  tmdbId             5579 non-null   float64       \n",
      " 14  genres             5579 non-null   object        \n",
      " 15  director           5579 non-null   object        \n",
      " 16  director_pop       5579 non-null   float64       \n",
      " 17  writers            5579 non-null   object        \n",
      " 18  num_writers        5579 non-null   int64         \n",
      " 19  avg_writer_pop     5579 non-null   float64       \n",
      " 20  max_writer_pop     5579 non-null   float64       \n",
      " 21  min_writer_pop     5579 non-null   float64       \n",
      " 22  actors             5579 non-null   object        \n",
      " 23  sum_actor_pop      5579 non-null   float64       \n",
      " 24  avg_actor_pop      5579 non-null   float64       \n",
      " 25  max_actor_pop      5579 non-null   float64       \n",
      " 26  min_actor_pop      5579 non-null   float64       \n",
      " 27  UNRATE             5579 non-null   float64       \n",
      " 28  PCE                5579 non-null   float64       \n",
      " 29  CPIAUCSL           5579 non-null   float64       \n",
      "dtypes: datetime64[ns](1), float64(17), int64(3), object(9)\n",
      "memory usage: 1.3+ MB\n",
      "None\n",
      "Completed! Data ready for analysis\n"
     ]
    }
   ],
   "source": [
    "movies = merge_datasets(source = PRODUCTION_DIRECTORY\n",
    "                        , destination = PRODUCTION_DIRECTORY\n",
    "                        , print_info=True)"
   ]
  },
  {
   "cell_type": "code",
   "execution_count": 3,
   "metadata": {},
   "outputs": [
    {
     "name": "stdout",
     "output_type": "stream",
     "text": [
      "60's films: 10\n",
      "70's films: 195\n",
      "80's films: 528\n",
      "90's films: 1023\n",
      "00's films: 1835\n",
      "10's films: 1987\n",
      "20's films: 1\n"
     ]
    }
   ],
   "source": [
    "print(\"60's films: {}\".format(movies[(movies['release_date']>='1960') & (movies['release_date']<'1970')].shape[0]))\n",
    "print(\"70's films: {}\".format(movies[(movies['release_date']>='1970') & (movies['release_date']<'1980')].shape[0]))\n",
    "print(\"80's films: {}\".format(movies[(movies['release_date']>='1980') & (movies['release_date']<'1990')].shape[0]))\n",
    "print(\"90's films: {}\".format(movies[(movies['release_date']>='1990') & (movies['release_date']<'2000')].shape[0]))\n",
    "print(\"00's films: {}\".format(movies[(movies['release_date']>='2000') & (movies['release_date']<'2010')].shape[0]))\n",
    "print(\"10's films: {}\".format(movies[(movies['release_date']>='2010') & (movies['release_date']<'2020')].shape[0]))\n",
    "print(\"20's films: {}\".format(movies[(movies['release_date']>='2020')].shape[0]))"
   ]
  },
  {
   "cell_type": "markdown",
   "metadata": {},
   "source": [
    "## Conclusion of Data Engineering Pipeline notebook\n",
    "\n",
    "We end with over 5,500 rows in the dataset that may be used for the machine learning model."
   ]
  }
 ],
 "metadata": {
  "kernelspec": {
   "display_name": "Python 3",
   "language": "python",
   "name": "python3"
  },
  "language_info": {
   "codemirror_mode": {
    "name": "ipython",
    "version": 3
   },
   "file_extension": ".py",
   "mimetype": "text/x-python",
   "name": "python",
   "nbconvert_exporter": "python",
   "pygments_lexer": "ipython3",
   "version": "3.8.5"
  }
 },
 "nbformat": 4,
 "nbformat_minor": 4
}
